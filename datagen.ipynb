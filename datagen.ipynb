{
 "cells": [
  {
   "cell_type": "code",
   "execution_count": 1,
   "metadata": {},
   "outputs": [],
   "source": [
    "import json\n",
    "import threading\n",
    "import queue\n",
    "import time\n",
    "from datetime import datetime\n",
    "import random\n",
    "import string\n",
    "from typing import List\n",
    "\n",
    "def generate_random_string(length: int = 30) -> str:\n",
    "    characters = string.ascii_letters + string.digits\n",
    "    return ''.join(random.choice(characters) for _ in range(length))\n",
    "\n",
    "def create_user(index: int) -> dict:\n",
    "    return {\n",
    "        \"username\": f\"user{index}\",\n",
    "        \"uid\": generate_random_string(),\n",
    "        \"dateOfJoining\": datetime.utcnow().isoformat()[:-3] + 'Z',\n",
    "        \"RoomId\": [],\n",
    "        \"password\": generate_random_string()\n",
    "    }\n",
    "\n",
    "def worker(work_queue: queue.Queue, results: List[dict], lock: threading.Lock):\n",
    "    while True:\n",
    "        try:\n",
    "            index = work_queue.get_nowait()\n",
    "            user = create_user(index)\n",
    "            with lock:\n",
    "                results.append(user)\n",
    "            work_queue.task_done()\n",
    "        except queue.Empty:\n",
    "            break\n",
    "\n",
    "def write_users_to_file(num_users: int = 1000, num_threads: int = 10):\n",
    "    work_queue = queue.Queue()\n",
    "    results = []\n",
    "    lock = threading.Lock()\n",
    "    \n",
    "    for i in range(num_users):\n",
    "        work_queue.put(i)\n",
    "    \n",
    "    threads = []\n",
    "    for _ in range(num_threads):\n",
    "        thread = threading.Thread(target=worker, args=(work_queue, results, lock))\n",
    "        threads.append(thread)\n",
    "        thread.start()\n",
    "    \n",
    "    for thread in threads:\n",
    "        thread.join()\n",
    "        \n",
    "    with open('data.json', 'w') as f:\n",
    "        json.dump(results, f, indent=2)\n"
   ]
  },
  {
   "cell_type": "code",
   "execution_count": 3,
   "metadata": {},
   "outputs": [],
   "source": [
    "def calculate_time_taken():\n",
    "    start = time.time()\n",
    "    write_users_to_file(num_users=1000000)\n",
    "    end = time.time()\n",
    "    print(f\"Time taken: {end - start} seconds\")\n",
    "    print(f\"Time taken: {(end - start)/60} minutes\")\n",
    "    print(f\"Time taken: {(end - start)/3600} hours\")    "
   ]
  },
  {
   "cell_type": "code",
   "execution_count": 4,
   "metadata": {},
   "outputs": [
    {
     "name": "stdout",
     "output_type": "stream",
     "text": [
      "Time taken: 149.1097137928009 seconds\n",
      "Time taken: 2.4851618965466815 minutes\n",
      "Time taken: 0.04141936494244469 hours\n"
     ]
    }
   ],
   "source": [
    "calculate_time_taken()"
   ]
  },
  {
   "cell_type": "code",
   "execution_count": null,
   "metadata": {},
   "outputs": [],
   "source": []
  }
 ],
 "metadata": {
  "kernelspec": {
   "display_name": "kerbal",
   "language": "python",
   "name": "python3"
  },
  "language_info": {
   "codemirror_mode": {
    "name": "ipython",
    "version": 3
   },
   "file_extension": ".py",
   "mimetype": "text/x-python",
   "name": "python",
   "nbconvert_exporter": "python",
   "pygments_lexer": "ipython3",
   "version": "3.10.13"
  }
 },
 "nbformat": 4,
 "nbformat_minor": 2
}
